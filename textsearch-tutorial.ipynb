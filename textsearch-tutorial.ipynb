{
 "cells": [
  {
   "cell_type": "code",
   "execution_count": 11,
   "metadata": {},
   "outputs": [],
   "source": [
    "# Importing required libraries\n",
    "\n",
    "from pymongo import MongoClient\n",
    "from pymongo import TEXT"
   ]
  },
  {
   "cell_type": "code",
   "execution_count": 2,
   "metadata": {},
   "outputs": [],
   "source": [
    "# Creating a connection to MongoDB\n",
    "client = MongoClient('localhost', 27017)\n",
    "db = client['news']\n",
    "collection = db['elespectador']"
   ]
  },
  {
   "cell_type": "code",
   "execution_count": 12,
   "metadata": {},
   "outputs": [
    {
     "data": {
      "text/plain": [
       "'title_text_summary_text_full_text_text'"
      ]
     },
     "execution_count": 12,
     "metadata": {},
     "output_type": "execute_result"
    }
   ],
   "source": [
    "# Creating a text index over all text fields\n",
    "collection.create_index([('title', TEXT), ('summary', TEXT), ('full_text', TEXT)], default_language = 'spanish')"
   ]
  },
  {
   "cell_type": "code",
   "execution_count": 16,
   "metadata": {},
   "outputs": [
    {
     "data": {
      "text/plain": [
       "[{'title': 'Candidatos a Presidencia que apuesten por firmas deberán recoger al menos 580.620',\n",
       "  'summary': 'La Registraduría advirtió que, según el calendario electoral, el próximo 17 de diciembre vencerá el plazo para que los aspirantes presenten las firmas. En enero de 2022 se certificarían esas firmas.',\n",
       "  'full_text': 'Actualmente, según datos de la Registraduría Nacional, son 37 los candidatos a la Presidencia de la República que han apostado por firmas para avalar su candidatura. Justamente, este jueves el organismo electoral determinó que quienes opten por este mecanismo deberán recoger al menos 580.620 firmas. Según la Registraduría, ese número equivale al 3 % del número total de votos válidos de las pasadas elecciones a la Presidencia de la República del 2018. En contexto: ¿Campaña anticipada? Póngale la firma “Para las elecciones presidenciales del 2018, los candidatos debieron registrar un mínimo de 385.348 firmas, es decir que, ante la alta participación de ciudadanos en las urnas para dichas elecciones, los actuales aspirantes deberán recoger 195.272 apoyos adicionales para inscribir su candidatura”, explicó la entidad. Desde el 29 de mayo pasado, día en el que inició el registro de los comités por Grupos Significativos de Ciudadanos, movimientos sociales y promotores del voto en blanco, la Registraduría señala que se han inscrito un total de 37 candidatos. El 17 de diciembre próximo vencerá el plazo para la presentación de firmas. “Siguiendo la línea de tiempo para la elección de presidente y vicepresidente de la República (primera vuelta), la Registraduría tendrá plazo hasta el 19 de enero del 2022 para certificar el número de firmas de los candidatos, así como los promotores del voto en blanco”, agregó el organismo. Entre los aspirantes por firmas figuran viejos conocidos en la arena electoral, pero también nombres inéditos. Enrique Peñalosa, Rodolfo Hernández, Juan Carlos Echeverry, Federico Gutiérrez, Roy Barreras, Francia Márquez y Alejandro Gaviria forman parte del ramillete de los más renombrados. Sin embargo, también hay espacio para candidatos menos mediáticos, como John Hitler Delgado, Judas Tadeo Echeverría o Efraín Torres Plazas. Este último, por ejemplo, llega con un movimiento ciudadano que denominó “Eliminemos las Ratas Políticas marcando aquí”. Los beneficios de conformar el pelotón de candidatos por firmas no son de poca monta. Aunque la norma indica que los aspirantes solo pueden iniciar la propaganda electoral tres meses antes de la elección -en el caso de los presidenciables el 28 de febrero-, quienes se le miden a recoger rubricas tienen patente de corso para salir a las calles y ganar visibilidad con la recolección de apoyos, pueden sumar recursos sin mayor vigilancia y hasta marginarse de partidos políticos tradicionales, sacando pecho como “independientes”. Una muestra de ello se vivió hace apenas dos años, en los últimos comicios en el país: las elecciones de alcaldes, gobernadores y autoridades locales. En 2019, los Grupos Significativos de Ciudadanos llegaron a los 1.164. Incluso, al revisar las elecciones legislativas de 2014, se evidencia que para Senado hubo 55 y para Cámara de Representantes 117.'},\n",
       " {'title': 'Coalición de la Esperanza respalda consulta popular a jóvenes en diciembre',\n",
       "  'summary': 'Los integrantes de la Coalición le pidieron a la Registraduría que facilite el desarrollo del proceso, para consultar a los jóvenes sobre aspectos como la reforma a la Policía, la renta básica o la lucha contra el cambio climático.',\n",
       "  'full_text': 'A través de una carta dirigida al registrador Alexander Vega, los miembros de la Coalición de la Esperanza expresaron su respaldo a que el próximo 5 de diciembre, cuando se celebrarán las elecciones de los Consejos Locales y Municipales de Juventud, se realice también una ‘Consulta Popular Juvenil’. En contexto: Consejos Municipales de Juventud: ¿la previa del pulso electoral de 2022? Según expresaron los miembros de la alianza –Sergio Fajardo, Jorge Robledo, Juan Fernando Cristo, Juan Manuel Galán y Berenice Bedoya–, dicha consulta sería un espacio propicio para preguntarles a los jóvenes por aspectos como la reforma a la Policía, la renta básica, la lucha contra el cambio climático y la educación superior pública y gratuita, entre otros. “La Coalición de la Esperanza tiene entre sus principios promover la renovación en la política colombiana, la cual también implica garantizar que los jóvenes puedan participar directamente de las decisiones del país”, explicaron. Sin embargo, reclamaron que, pese a los llamados de los jóvenes, las respuestas que han recibido de la Registraduría Nacional han sido negativas, señalando que hay que surtir todos los procedimientos establecidos para la realización de una consulta popular. “Al respecto, la Coalición de la Esperanza se permite recordarle, señor registrador, con el debido respeto, que la Corte Constitucional ha dicho que la participación ciudadana no se agota en los mecanismos de democracia directa previstos en la Constitución y la ley”, sostuvo la alianza. Insistiendo en que el organismo debe desarrollar el mecanismo, la Coalición recordó también que, como el 5 de diciembre también podrán participar jóvenes entre los 14 y los 18 años, un mecanismo de democracia directa de los previstos en la Constitución y la ley los excluiría de dicho proceso.'},\n",
       " {'title': 'Alejandro Gaviria, ¿manzana de discordia entre Coalición de la Esperanza y verdes?',\n",
       "  'summary': 'Aunque este jueves se tenía previsto que el precandidato de la Alianza Verde, Carlos Amaya, participara en los recorridos de la Coalición en Bogotá, al final decidió ausentarse. ¿La razón? El trato contra el exrector de los Andes. Alto turmeque.',\n",
       "  'full_text': 'La distancia entre la Coalición de la Esperanza y Alejandro Gaviria con miras a las presidenciales de 2022 parece acentuarse, y en medio del pleito parece estar una vez más la Alianza Verde. Este jueves los miembros de la alianza –Sergio Fajardo, Jorge Robledo, Juan Fernando Cristo, Juan Manuel Galán y otros dirigentes– desarrollaron su primera correría política en Bogotá. Sin embargo, llamó la atención la ausencia del también precandidato Carlos Amaya. La semana pasada, el exgobernador de Boyacá fue elegido como la figura de los verdes para competir en una eventual alianza con los demás integrantes de la Coalición. No obstante, fuentes cercanas a Amaya confirmaron que a última hora decidió ausentarse del evento de este jueves por el trato que los miembros le están dando al exrector de los Andes. Lea también: Carlos Amaya es el ganador de la candidatura de la Terna Verde Recientemente, Fajardo, Robledo, Cristo y Galán hicieron públicos sus reparos contra Gaviria. Aunque insistieron que es bienvenido con miras a una eventual coalición, le exigieron que se desmarque del jefe del Partido Liberal, César Gaviria. “No queremos que nos reelijan un Duque en cuerpo ajeno”, advirtieron. En contexto: “No queremos un Duque en cuerpo ajeno”: Coalición de la Esperanza a A. Gaviria “Amaya iba a estar en los recorridos de la Coalición de la Esperanza en Bogotá, pero no llegó. Él está molesto por el trato que la Coalición ha dado a Alejandro Gaviria, casi que cerrándose la puerta”, le explicó la fuente a este diario. Incluso, el exgobernador invitó en su cuenta en Twitter a los miembros de la Coalición y a Gaviria “a encontrar un camino”. La semana pasada, cuando los integrantes de la Coalición expresaron sus reparos a Gaviria, la senadora Angélica Lozano, uno de los pesos pesados del partido, fue vehemente en decir que la consulta debe tener a Alejandro Gaviria y advirtió que no contaran con ella si se van a repetir los errores de 2018 (llegar fragmentados). Tras publicado este artículo y finalizado el recorrido de los precandidatos por la Coalición de la Esperanza, Fajardo y Cristo respondieron al trino de Carlos Amaya. Las críticas se volcaron a Gaviria, pero no a Alejandro, sino a César, el presidente del Partido Liberal, quien le ha venido coqueteando al exrector de Los Andes.  Lea más turmequés: Alto turmequé: de advertencias, pólizas y recuerdos Inicia un nuevo movimiento político liderado por un sector de exFarc Alto turmequé'}]"
      ]
     },
     "execution_count": 16,
     "metadata": {},
     "output_type": "execute_result"
    }
   ],
   "source": [
    "list(collection.find({'$text': {'$search': 'elecciones presidenciales'}}, {'_id': 0, 'summary': 1, 'title': 1, 'full_text': 1,}))"
   ]
  },
  {
   "cell_type": "code",
   "execution_count": null,
   "metadata": {},
   "outputs": [],
   "source": []
  }
 ],
 "metadata": {
  "kernelspec": {
   "display_name": "Python 3",
   "language": "python",
   "name": "python3"
  },
  "language_info": {
   "codemirror_mode": {
    "name": "ipython",
    "version": 3
   },
   "file_extension": ".py",
   "mimetype": "text/x-python",
   "name": "python",
   "nbconvert_exporter": "python",
   "pygments_lexer": "ipython3",
   "version": "3.7.6"
  }
 },
 "nbformat": 4,
 "nbformat_minor": 4
}
