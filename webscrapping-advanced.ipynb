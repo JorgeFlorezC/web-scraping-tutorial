{
 "cells": [
  {
   "cell_type": "code",
   "execution_count": 1,
   "metadata": {},
   "outputs": [],
   "source": [
    "# Importing required libraries\n",
    "\n",
    "import time\n",
    "\n",
    "from bs4 import BeautifulSoup\n",
    "from selenium import webdriver\n",
    "\n",
    "from pymongo import MongoClient"
   ]
  },
  {
   "cell_type": "code",
   "execution_count": 2,
   "metadata": {},
   "outputs": [],
   "source": [
    "# Creating a connection to MongoDB\n",
    "client = MongoClient('localhost', 27017)\n",
    "db = client['news']\n",
    "collection = db['elespectador']"
   ]
  },
  {
   "cell_type": "code",
   "execution_count": 3,
   "metadata": {},
   "outputs": [],
   "source": [
    "# Base URL of the site to be analyzed\n",
    "SITE_URL = 'https://www.elespectador.com'"
   ]
  },
  {
   "cell_type": "code",
   "execution_count": 4,
   "metadata": {},
   "outputs": [],
   "source": [
    "# Firefox web driver path\n",
    "# Download the driver for you S.O. here: https://github.com/mozilla/geckodriver/releases\n",
    "DRIVER_PATH = './geckodriver'"
   ]
  },
  {
   "cell_type": "code",
   "execution_count": 5,
   "metadata": {},
   "outputs": [],
   "source": [
    "# Creating a new firefox window\n",
    "browser = webdriver.Firefox(executable_path = DRIVER_PATH)"
   ]
  },
  {
   "cell_type": "code",
   "execution_count": 6,
   "metadata": {},
   "outputs": [],
   "source": [
    "def make_request(browser, relative_path):\n",
    "    # Making the request and rendering the browser\n",
    "    browser.get(SITE_URL + relative_path)\n",
    "    \n",
    "    # Simulating vertical scrolling for handling lazy load\n",
    "    check_height = browser.execute_script('return document.body.scrollHeight;')\n",
    "    while True:\n",
    "        browser.execute_script('window.scrollTo(0, document.body.scrollHeight);')\n",
    "        time.sleep(3)\n",
    "        height = browser.execute_script('return document.body.scrollHeight;')\n",
    "        if height == check_height: \n",
    "            break \n",
    "        check_height = height\n",
    "    \n",
    "    # Getting HTML content and passing it to BeautifulSoup for scraping analysis\n",
    "    return BeautifulSoup(browser.page_source, 'html.parser')"
   ]
  },
  {
   "cell_type": "code",
   "execution_count": 7,
   "metadata": {},
   "outputs": [],
   "source": [
    "# Getting HTML content for news listing page\n",
    "soup = make_request(browser, '/archivo/politica/')"
   ]
  },
  {
   "cell_type": "code",
   "execution_count": 8,
   "metadata": {},
   "outputs": [],
   "source": [
    "# Finding the section where news are contained \n",
    "layout = soup.find(class_ = 'Layout-flexAds')"
   ]
  },
  {
   "cell_type": "code",
   "execution_count": 9,
   "metadata": {},
   "outputs": [
    {
     "name": "stdout",
     "output_type": "stream",
     "text": [
      "3\n"
     ]
    }
   ],
   "source": [
    "# Getting blocks from layout\n",
    "blocks = layout.find('section').find_all(recursive = False)\n",
    "print(len(blocks)) # 3 blocks founded, 2 for news and 1 for pagintion"
   ]
  },
  {
   "cell_type": "code",
   "execution_count": 10,
   "metadata": {},
   "outputs": [
    {
     "data": {
      "text/plain": [
       "8"
      ]
     },
     "execution_count": 10,
     "metadata": {},
     "output_type": "execute_result"
    }
   ],
   "source": [
    "# Finding and concatenating news cards\n",
    "cards = blocks[0].find_all(class_ = 'Card') + blocks[1].find_all(class_ = 'Card')\n",
    "len(cards)"
   ]
  },
  {
   "cell_type": "code",
   "execution_count": 11,
   "metadata": {},
   "outputs": [],
   "source": [
    "# Building a list with title and relative path of the news founded\n",
    "\n",
    "news = []\n",
    "\n",
    "for card in cards:\n",
    "    news.append({\n",
    "        'title': card.find('h2', class_ = 'Card-Title').find('a').get_text(),\n",
    "        'relative_path': card.find('h2', class_ = 'Card-Title').find('a')['href']\n",
    "    })"
   ]
  },
  {
   "cell_type": "code",
   "execution_count": 12,
   "metadata": {},
   "outputs": [
    {
     "data": {
      "text/plain": [
       "[{'title': '‘Se enfrenta un blanco legítimo’: Duque sobre bombardeo en el que murieron menores',\n",
       "  'relative_path': '/politica/se-enfrenta-un-blanco-legitimo-duque-sobre-bombardeo-en-el-que-murieron-menores/'},\n",
       " {'title': 'Se cae proyecto que creaba bonificación adicional para congresistas',\n",
       "  'relative_path': '/politica/se-cae-proyecto-que-creaba-bonificacion-adicional-para-congresistas/'},\n",
       " {'title': '“Salimos del cascarón del olvido”: hermanos Korebajʉ',\n",
       "  'relative_path': '/politica/salimos-del-cascaron-del-olvido-hermanos-korebaj/'},\n",
       " {'title': 'Nuevas alertas en Ley de Presupuesto: desfinanciaría a Mi Casa Ya',\n",
       "  'relative_path': '/politica/nuevas-alertas-en-ley-de-presupuesto-desfinanciaria-a-mi-casa-ya/'},\n",
       " {'title': 'Coalición de la Esperanza respalda consulta popular a jóvenes en diciembre',\n",
       "  'relative_path': '/politica/coalicion-de-la-esperanza-respalda-consulta-popular-a-jovenes-en-diciembre/'},\n",
       " {'title': 'Alejandro Gaviria, ¿manzana de discordia entre Coalición de la Esperanza y verdes?',\n",
       "  'relative_path': '/politica/alejandro-gaviria-manzana-de-discordia-entre-coalicion-de-la-esperanza-y-verdes/'},\n",
       " {'title': 'Polémica por participación de hombre que disparó en el paro en reunión de Cabal',\n",
       "  'relative_path': '/politica/polemica-por-participacion-de-hombre-que-disparo-en-el-paro-en-reunion-de-cabal/'},\n",
       " {'title': 'Candidatos a Presidencia que apuesten por firmas deberán recoger al menos 580.620',\n",
       "  'relative_path': '/politica/candidatos-a-presidencia-que-apuesten-por-firmas-deberan-recoger-al-menos-580620/'}]"
      ]
     },
     "execution_count": 12,
     "metadata": {},
     "output_type": "execute_result"
    }
   ],
   "source": [
    "news"
   ]
  },
  {
   "cell_type": "code",
   "execution_count": 13,
   "metadata": {},
   "outputs": [],
   "source": [
    "for n in news:\n",
    "    # Getting HTML content for news page\n",
    "    soup = make_request(browser, n['relative_path'])\n",
    "    \n",
    "    # Extracting news metadata\n",
    "    n['datetime'] = soup.find(class_ = 'ArticleHeader-Date').get_text()\n",
    "    n['author'] = soup.find(class_ = 'ACredit-Author').find('a').get_text()\n",
    "    n['summary'] = soup.find(class_ = 'ArticleHeader-Hook').find('div').get_text()\n",
    "    \n",
    "    # Extracting and concatenating news full text\n",
    "    paragraphs = soup.find_all(class_ = 'font--secondary')\n",
    "    n['full_text'] = ' '.join([p.get_text() for p in paragraphs])"
   ]
  },
  {
   "cell_type": "code",
   "execution_count": 14,
   "metadata": {},
   "outputs": [
    {
     "data": {
      "text/plain": [
       "[{'title': '‘Se enfrenta un blanco legítimo’: Duque sobre bombardeo en el que murieron menores',\n",
       "  'relative_path': '/politica/se-enfrenta-un-blanco-legitimo-duque-sobre-bombardeo-en-el-que-murieron-menores/',\n",
       "  'datetime': '8 Oct 2021  - 11:55 a.\\xa0m.',\n",
       "  'author': 'Redacción Política',\n",
       "  'summary': 'Aunque el primer mandatario resaltó que se trata de hechos que le duelen al país, defendió que es deber de la Fuerza Pública actuar sobre los criminales y con base en estándares internacionales.',\n",
       "  'full_text': 'En medio de la controversia por la muerte de cuatro menores de edad en medio de un bombardeo contra el Eln en Chocó, este viernes el presidente Iván Duque se refirió a la polémica y aseguró que “se está enfrentando a un blanco legítimo”. En contexto: Vuelve y juega: en bombardeo al Eln en Chocó murieron cuatro menores de edad El mandatario, de visita en Amazonas –donde instaló la Tercera Cumbre del Pacto de Leticia–, defendió que en el operativo no había civiles y destacó que en muchas operaciones se rescatan a menores de edad que permanecen en campamentos de grupos subversivos. Si bien Duque aseguró que este tipo de hechos le duelen al país, insistió en que es deber de la Fuerza Pública actuar sobre los criminales con toda fortaleza. En ese sentido, defendió que las autoridades actúan con base en estándares internacionales de blanco legítimo. La operación se hizo contra “campamentos terroristas dónde no había civiles (…) Ahí se está enfrentando a un blanco legítimo”, declaró Duque en declaraciones que recoge la emisora Blu Radio. El senador Iván Cepeda, del Polo Democrático –quien denunció que en un bombardeo contra el Eln en Chocó murieron cuatro menores de edad– anunció recientemente que citará a debate de control político en el Congreso al ministro de Defensa, Diego Molano. Lea también: Mindefensa, a control político por bombardeo en el que murieron menores El operativo se desarrolló desde el 16 de septiembre pasado en el litoral de San Juan, municipio chocoano, contra el campamento en el que se encontraba el jefe del Frente Occidental del Eln, alias Fabián. El líder guerrillero no falleció ahí, pero en cambio sí murieron ocho personas, entre ellas, cuatro menores de edad. Se trata de adolescentes entre los 13 y los 17 años. La operación fue presentada por el Ministerio de Defensa como “una de las operaciones militares más grandes contra el Eln”, pues alias Fabián sería “la cabeza más importante de este grupo que quedaba en Colombia”. El ministro del Interior, Daniel Palacios, dijo que se trató de una “operación quirúrgica” y de “alta precisión”. Sin embargo, el máximo objetivo de esa acción militar no murió ni fue capturado allí mismo.'},\n",
       " {'title': 'Se cae proyecto que creaba bonificación adicional para congresistas',\n",
       "  'relative_path': '/politica/se-cae-proyecto-que-creaba-bonificacion-adicional-para-congresistas/',\n",
       "  'datetime': '8 Oct 2021  - 11:03 a.\\xa0m.',\n",
       "  'author': 'Redacción Política',\n",
       "  'summary': 'El autor de la iniciativa, el senador Andrés García Zuccardi, anunció que retirará la iniciativa. Lamentó que no se diera la discusión “por una interpretación política” y atribuyó a la polarización que no se hiciera el debate.',\n",
       "  'full_text': 'En medio de la controversia por el proyecto que busca reformar la remuneración salarial de los empleados públicos, incluyendo los miembros del Congreso, y que supuestamente creaba una bonificación adicional para senadores y representantes, se conoció que su autor decidió retirar la iniciativa. Editorial: El Congreso quiere pagarles más a los congresistas Así lo expresó el senador Andrés García Zuccardi, del Partido de la U, quien atribuyó a la polarización y a las noticias falsas que no se diera la discusión del proyecto: “Me permito anunciar que, debido a esta polarización y a las noticias falsas, retiro este proyecto. Sin embargo, me llama la atención que el sueño de todo colombiano, que es controlar el gasto fiscal de los funcionarios públicos y de los congresistas, no sea aceptado por cuenta de una interpretación política”. García Zuccardi salió en defensa de su iniciativa, asegurando que es falso que se pretendiera aumentar los salarios de los congresistas. Según el parlamentario, el objetivo era que en Colombia los funcionarios públicos, incluidos los congresistas, tengan un salario base y se pague por su trabajo y rendición de cuentas. También le puede interesar:\\xa0Alertan que proyecto crearía bonificación adicional para congresistas “El proyecto permitiría que el Estado sea más eficiente desde la profesionalización del servidor público y que la remuneración sea por su desempeño. Es cierto que no hay ambiente para una discusión técnica, debido a la polarización, al dolor, a la injusticia e indignación que sufrimos muchísimos colombianos”, agregó. El senador insistió en que, de acuerdo con las metas cumplidas, el proyecto castigaba a los congresistas que no se la jugarán por generar empleo, reactivar la economía y que no le cumplan al país. “A ellos se les reduciría su ingreso. La remuneración no la deciden los congresistas, la deciden los técnicos”, precisó. Lea también: Oposición y afines a Gobierno se unen para rechazar bonificaciones a congresistas Desde el lunes, un sector de oposición puso el grito en el cielo para tratar de frenar la iniciativa. Curiosamente, tanto la oposición como el partido de Gobierno coincidieron en que un proyecto de esta naturaleza no tenía cabida y va en contra de la petición popular de que haya reducción en los salarios de los legisladores.'},\n",
       " {'title': '“Salimos del cascarón del olvido”: hermanos Korebajʉ',\n",
       "  'relative_path': '/politica/salimos-del-cascaron-del-olvido-hermanos-korebaj/',\n",
       "  'datetime': '7 Oct 2021  - 7:55 p.\\xa0m.',\n",
       "  'author': 'Laura Angélica  Ospina',\n",
       "  'summary': 'Eduardo y Milton Bolaños Piranga, representantes del pueblo originario de la Amazonia, hablan sobre cómo la guerra afectó a su comunidad, su proceso de sanación y perdón, y algunas de las amenazas que aún acechan su territorio.',\n",
       "  'full_text': 'Los korebajʉs tienen grabado en su espíritu la palabra resistencia. No podría ser de otra manera, pues sus comunidades y clanes, ubicados en la Amazonia colombiana -en los municipios de Milán, Florencia y Solano, en Caquetá, y en Puerto Leguízamo, en Putumayo-, han sobrevivido a pesar de la violencia y el exterminio que trajo el hombre blanco a sus territorios. Korebajʉ quiere decir que sus integrantes son todos “hijos de la tierra” y, en español, el nombre del pueblo originario del pulmón del mundo se dice “Coreguaje”. Sus mujeres, hombres, niños y niñas, han aguantado la incursión de la iglesia católica, la colonización y el genocidio cauchero. En la historia más reciente han sobrevivido a la estigmatización de la Fuerza Pública, el asesinato de sus líderes hechos por las antiguas Farc y, ahora, la amenaza de las disidencias, la fumigación con glifosato y el abandono estatal. (Lea: ExFarc reconocen que perpetraron masacre contra el pueblo Korebaju en 1997)'},\n",
       " {'title': 'Nuevas alertas en Ley de Presupuesto: desfinanciaría a Mi Casa Ya',\n",
       "  'relative_path': '/politica/nuevas-alertas-en-ley-de-presupuesto-desfinanciaria-a-mi-casa-ya/',\n",
       "  'datetime': '7 Oct 2021  - 2:51 p.\\xa0m.',\n",
       "  'author': 'Redacción Política',\n",
       "  'summary': 'El representante de Cambio Radical, José Daniel López, aseguró que los recursos para este programa de vivienda están recortados en un 50%. Esto significa, por lo menos, 35.000 familias afectadas.',\n",
       "  'full_text': 'Desde que el proyecto de Presupuesto General de la Nación de 2022 llegó a las plenarias de Senado y Cámara, congresistas han estado revisando con lupa los puntos aprobados por las comisiones económicas. Ayer, el senador Carlos Fernando Motoa (Cambio Radical) aseguró que el artículo 104 es una reforma pensional a retazos y, este jueves, el representante José Daniel López, también de Cambio Radical, hizo alerta sobre cómo está el programa Mi Casa Ya en la propuesta. Lea más: Alertan una reforma pensional camuflada en el Presupuesto General.  De acuerdo con lo encontrado por el representante, al programa le redujeron un 50% de los recursos estipulados para 2022. “Pasar de $1.3 billones en 2021 a $664.000 millones en el 2022 significa dejar, por lo menos, a 35.000 familias de bajos recursos sin la oportunidad de tener casa propia”, especificó López. Haciendo dicha alerta, el representante le hizo un llamado al Gobierno y a los ponentes del proyecto para que se corrija esta situación y no afectar a familias de escasos recursos que esperan ayudas del Estado para obtener su casa propia. Lea otras noticias políticas aquí.  “Algunos se confían porque en las vigencias 2020 y 2021 aparecieron recursos adicionales después de aprobada la Ley de Presupuesto, pero en 2022 hay cambio de gobierno, difícilmente habrá otra reforma tributaria que asigne más recursos y el déficit fiscal está disparado. Los recursos deben asegurarse desde ya. El segundo debate es la oportunidad precisa para corregir semejante error”, complementó. Para 2022, se espera acrecentar el presupuesto para el programa en $1.4 billones que beneficien a 65.000 más familias, 5.000 más que 2021. Según López, de no asegurar esos $1.4 billones, “el 2022 será el año con menos familias beneficiadas desde que arrancó Mi Casa Ya, lo que, a su vez, desincentivaría la compra de vivienda, afectando directamente al sector de la construcción, que hoy genera más de 1.5 millones de empleos formales, mucho más de lo que generaba antes de la pandemia”, termina la explicación el representante.'},\n",
       " {'title': 'Coalición de la Esperanza respalda consulta popular a jóvenes en diciembre',\n",
       "  'relative_path': '/politica/coalicion-de-la-esperanza-respalda-consulta-popular-a-jovenes-en-diciembre/',\n",
       "  'datetime': '7 Oct 2021  - 2:00 p.\\xa0m.',\n",
       "  'author': 'Redacción Política',\n",
       "  'summary': 'Los integrantes de la Coalición le pidieron a la Registraduría que facilite el desarrollo del proceso, para consultar a los jóvenes sobre aspectos como la reforma a la Policía, la renta básica o la lucha contra el cambio climático.',\n",
       "  'full_text': 'A través de una carta dirigida al registrador Alexander Vega, los miembros de la Coalición de la Esperanza expresaron su respaldo a que el próximo 5 de diciembre, cuando se celebrarán las elecciones de los Consejos Locales y Municipales de Juventud, se realice también una ‘Consulta Popular Juvenil’. En contexto: Consejos Municipales de Juventud: ¿la previa del pulso electoral de 2022? Según expresaron los miembros de la alianza –Sergio Fajardo, Jorge Robledo, Juan Fernando Cristo, Juan Manuel Galán y Berenice Bedoya–, dicha consulta sería un espacio propicio para preguntarles a los jóvenes por aspectos como la reforma a la Policía, la renta básica, la lucha contra el cambio climático y la educación superior pública y gratuita, entre otros. “La Coalición de la Esperanza tiene entre sus principios promover la renovación en la política colombiana, la cual también implica garantizar que los jóvenes puedan participar directamente de las decisiones del país”, explicaron. Sin embargo, reclamaron que, pese a los llamados de los jóvenes, las respuestas que han recibido de la Registraduría Nacional han sido negativas, señalando que hay que surtir todos los procedimientos establecidos para la realización de una consulta popular. “Al respecto, la Coalición de la Esperanza se permite recordarle, señor registrador, con el debido respeto, que la Corte Constitucional ha dicho que la participación ciudadana no se agota en los mecanismos de democracia directa previstos en la Constitución y la ley”, sostuvo la alianza. Insistiendo en que el organismo debe desarrollar el mecanismo, la Coalición recordó también que, como el 5 de diciembre también podrán participar jóvenes entre los 14 y los 18 años, un mecanismo de democracia directa de los previstos en la Constitución y la ley los excluiría de dicho proceso.'},\n",
       " {'title': 'Alejandro Gaviria, ¿manzana de discordia entre Coalición de la Esperanza y verdes?',\n",
       "  'relative_path': '/politica/alejandro-gaviria-manzana-de-discordia-entre-coalicion-de-la-esperanza-y-verdes/',\n",
       "  'datetime': '7 Oct 2021  - 1:18 p.\\xa0m.',\n",
       "  'author': 'Redacción Política',\n",
       "  'summary': 'Aunque este jueves se tenía previsto que el precandidato de la Alianza Verde, Carlos Amaya, participara en los recorridos de la Coalición en Bogotá, al final decidió ausentarse. ¿La razón? El trato contra el exrector de los Andes. Alto turmeque.',\n",
       "  'full_text': 'La distancia entre la Coalición de la Esperanza y Alejandro Gaviria con miras a las presidenciales de 2022 parece acentuarse, y en medio del pleito parece estar una vez más la Alianza Verde. Este jueves los miembros de la alianza –Sergio Fajardo, Jorge Robledo, Juan Fernando Cristo, Juan Manuel Galán y otros dirigentes– desarrollaron su primera correría política en Bogotá. Sin embargo, llamó la atención la ausencia del también precandidato Carlos Amaya. La semana pasada, el exgobernador de Boyacá fue elegido como la figura de los verdes para competir en una eventual alianza con los demás integrantes de la Coalición. No obstante, fuentes cercanas a Amaya confirmaron que a última hora decidió ausentarse del evento de este jueves por el trato que los miembros le están dando al exrector de los Andes. Lea también: Carlos Amaya es el ganador de la candidatura de la Terna Verde Recientemente, Fajardo, Robledo, Cristo y Galán hicieron públicos sus reparos contra Gaviria. Aunque insistieron que es bienvenido con miras a una eventual coalición, le exigieron que se desmarque del jefe del Partido Liberal, César Gaviria. “No queremos que nos reelijan un Duque en cuerpo ajeno”, advirtieron. En contexto: “No queremos un Duque en cuerpo ajeno”: Coalición de la Esperanza a A. Gaviria “Amaya iba a estar en los recorridos de la Coalición de la Esperanza en Bogotá, pero no llegó. Él está molesto por el trato que la Coalición ha dado a Alejandro Gaviria, casi que cerrándose la puerta”, le explicó la fuente a este diario. Incluso, el exgobernador invitó en su cuenta en Twitter a los miembros de la Coalición y a Gaviria “a encontrar un camino”. La semana pasada, cuando los integrantes de la Coalición expresaron sus reparos a Gaviria, la senadora Angélica Lozano, uno de los pesos pesados del partido, fue vehemente en decir que la consulta debe tener a Alejandro Gaviria y advirtió que no contaran con ella si se van a repetir los errores de 2018 (llegar fragmentados). Tras publicado este artículo y finalizado el recorrido de los precandidatos por la Coalición de la Esperanza, Fajardo y Cristo respondieron al trino de Carlos Amaya. Las críticas se volcaron a Gaviria, pero no a Alejandro, sino a César, el presidente del Partido Liberal, quien le ha venido coqueteando al exrector de Los Andes.  Lea más turmequés: Alto turmequé: de advertencias, pólizas y recuerdos Inicia un nuevo movimiento político liderado por un sector de exFarc Alto turmequé'},\n",
       " {'title': 'Polémica por participación de hombre que disparó en el paro en reunión de Cabal',\n",
       "  'relative_path': '/politica/polemica-por-participacion-de-hombre-que-disparo-en-el-paro-en-reunion-de-cabal/',\n",
       "  'datetime': '7 Oct 2021  - 12:35 p.\\xa0m.',\n",
       "  'author': 'Redacción Política',\n",
       "  'summary': 'Se trata de Andrés Escobar, quien fue identificado en mayo pasado como uno de los civiles que disparó contra otros ciudadanos en el barrio Ciudad Jardín de Cali. La precandidata defendió que sus reuniones son “abiertas al público”.',\n",
       "  'full_text': 'Gran controversia causó en redes sociales la reaparición de Andrés Escobar, quien se hizo tristemente célebre por aparentemente disparar con un arma traumática a otros civiles en medio del paro nacional en Cali, en medio de una reunión política de la precandidata a la Presidencia María Fernanda Cabal. En contexto: Así van las investigaciones por civiles armados en Cali: más allá de Andrés Escobar El evento proselitista se realizó en la noche de este miércoles 6 de octubre en un hotel de la capital del Valle del Cauca. Hasta allí llegó Escobar, quien figura en un video formulándole una pregunta a la aspirante del Centro Democrático. Andrés Escobar, empresario que trabaja con publicidad en Cali, enfrenta un proceso judicial luego de que fuera identificado como uno de los civiles que disparó en plena vía pública mayo pasado en el barrio Ciudad Jardín de la capital del Valle, en el marco de las protestas por el paro nacional. Según él, dicha arma era de fogueo. En videos ampliamente difundidos en redes sociales quedó registrado cuando Escobar, ante la omisión de un puñado de policías del lugar, desenfundó su arma y realizó tiros al aire libre. Lea también: Citan a interrogatorio a Andrés Escobar por presunto ataque a manifestantes en Cali Ante las críticas por la presencia de Escobar en su reunión, la candidata Cabal respondió que las reuniones son abiertas al público: “El señor Escobar manifestó una inquietud; aún en Colombia hay libertad de expresión”.'},\n",
       " {'title': 'Candidatos a Presidencia que apuesten por firmas deberán recoger al menos 580.620',\n",
       "  'relative_path': '/politica/candidatos-a-presidencia-que-apuesten-por-firmas-deberan-recoger-al-menos-580620/',\n",
       "  'datetime': '7 Oct 2021  - 12:03 p.\\xa0m.',\n",
       "  'author': 'Redacción Política',\n",
       "  'summary': 'La Registraduría advirtió que, según el calendario electoral, el próximo 17 de diciembre vencerá el plazo para que los aspirantes presenten las firmas. En enero de 2022 se certificarían esas firmas.',\n",
       "  'full_text': 'Actualmente, según datos de la Registraduría Nacional, son 37 los candidatos a la Presidencia de la República que han apostado por firmas para avalar su candidatura. Justamente, este jueves el organismo electoral determinó que quienes opten por este mecanismo deberán recoger al menos 580.620 firmas. Según la Registraduría, ese número equivale al 3 % del número total de votos válidos de las pasadas elecciones a la Presidencia de la República del 2018. En contexto: ¿Campaña anticipada? Póngale la firma “Para las elecciones presidenciales del 2018, los candidatos debieron registrar un mínimo de 385.348 firmas, es decir que, ante la alta participación de ciudadanos en las urnas para dichas elecciones, los actuales aspirantes deberán recoger 195.272 apoyos adicionales para inscribir su candidatura”, explicó la entidad. Desde el 29 de mayo pasado, día en el que inició el registro de los comités por Grupos Significativos de Ciudadanos, movimientos sociales y promotores del voto en blanco, la Registraduría señala que se han inscrito un total de 37 candidatos. El 17 de diciembre próximo vencerá el plazo para la presentación de firmas. “Siguiendo la línea de tiempo para la elección de presidente y vicepresidente de la República (primera vuelta), la Registraduría tendrá plazo hasta el 19 de enero del 2022 para certificar el número de firmas de los candidatos, así como los promotores del voto en blanco”, agregó el organismo. Entre los aspirantes por firmas figuran viejos conocidos en la arena electoral, pero también nombres inéditos. Enrique Peñalosa, Rodolfo Hernández, Juan Carlos Echeverry, Federico Gutiérrez, Roy Barreras, Francia Márquez y Alejandro Gaviria forman parte del ramillete de los más renombrados. Sin embargo, también hay espacio para candidatos menos mediáticos, como John Hitler Delgado, Judas Tadeo Echeverría o Efraín Torres Plazas. Este último, por ejemplo, llega con un movimiento ciudadano que denominó “Eliminemos las Ratas Políticas marcando aquí”. Los beneficios de conformar el pelotón de candidatos por firmas no son de poca monta. Aunque la norma indica que los aspirantes solo pueden iniciar la propaganda electoral tres meses antes de la elección -en el caso de los presidenciables el 28 de febrero-, quienes se le miden a recoger rubricas tienen patente de corso para salir a las calles y ganar visibilidad con la recolección de apoyos, pueden sumar recursos sin mayor vigilancia y hasta marginarse de partidos políticos tradicionales, sacando pecho como “independientes”. Una muestra de ello se vivió hace apenas dos años, en los últimos comicios en el país: las elecciones de alcaldes, gobernadores y autoridades locales. En 2019, los Grupos Significativos de Ciudadanos llegaron a los 1.164. Incluso, al revisar las elecciones legislativas de 2014, se evidencia que para Senado hubo 55 y para Cámara de Representantes 117.'}]"
      ]
     },
     "execution_count": 14,
     "metadata": {},
     "output_type": "execute_result"
    }
   ],
   "source": [
    "news"
   ]
  },
  {
   "cell_type": "code",
   "execution_count": 15,
   "metadata": {},
   "outputs": [
    {
     "data": {
      "text/plain": [
       "<pymongo.results.InsertManyResult at 0x7ff5a5ace0f0>"
      ]
     },
     "execution_count": 15,
     "metadata": {},
     "output_type": "execute_result"
    }
   ],
   "source": [
    "# Storing extracted information for further analysis\n",
    "collection.insert_many(news)"
   ]
  },
  {
   "cell_type": "code",
   "execution_count": null,
   "metadata": {},
   "outputs": [],
   "source": []
  },
  {
   "cell_type": "code",
   "execution_count": null,
   "metadata": {},
   "outputs": [],
   "source": []
  },
  {
   "cell_type": "code",
   "execution_count": null,
   "metadata": {},
   "outputs": [],
   "source": []
  },
  {
   "cell_type": "code",
   "execution_count": null,
   "metadata": {},
   "outputs": [],
   "source": []
  }
 ],
 "metadata": {
  "kernelspec": {
   "display_name": "Python 3",
   "language": "python",
   "name": "python3"
  },
  "language_info": {
   "codemirror_mode": {
    "name": "ipython",
    "version": 3
   },
   "file_extension": ".py",
   "mimetype": "text/x-python",
   "name": "python",
   "nbconvert_exporter": "python",
   "pygments_lexer": "ipython3",
   "version": "3.7.6"
  }
 },
 "nbformat": 4,
 "nbformat_minor": 4
}
