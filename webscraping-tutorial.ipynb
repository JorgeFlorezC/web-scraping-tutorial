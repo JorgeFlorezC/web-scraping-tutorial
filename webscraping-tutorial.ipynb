{
 "cells": [
  {
   "cell_type": "markdown",
   "metadata": {},
   "source": [
    "# Web Scraping\n",
    "\n",
    "Basic tutorial using BeautifulSoup to extract forecast data for a particular city in U.S. from weather.gov website.  \n",
    "Based on <a href=\"https://www.dataquest.io/blog/web-scraping-python-using-beautiful-soup/\" target=\"_blank\">this tutorial</a>.\n",
    "\n",
    "If you are not confident with HTML, you can review the basics of the <a href=\"https://docs.google.com/presentation/d/1GonNbQS5eZUZIHmoM9GuGbDb-F1oOx6l8BMYGRYBbFQ/edit?usp=sharing\" target=\"_blank\">here</a>.\n",
    "\n",
    "Additionally, you will need <a href=\"https://docs.mongodb.com/manual/installation/\" target=\"_blank\">MongoDB</a> to persist scraped data. In addition, you can use <a href=\"https://robomongo.org/\" target=\"_blank\">Robo3T</a> as UI client to access MongoDB."
   ]
  },
  {
   "cell_type": "code",
   "execution_count": null,
   "metadata": {},
   "outputs": [],
   "source": [
    "# Importing required libraries\n",
    "\n",
    "import requests\n",
    "from urllib.request import urlopen\n",
    "\n",
    "from bs4 import BeautifulSoup\n",
    "\n",
    "import pandas as pd\n",
    "import matplotlib.pyplot as plt\n",
    "%matplotlib inline\n",
    "\n",
    "from pymongo import MongoClient"
   ]
  },
  {
   "cell_type": "code",
   "execution_count": null,
   "metadata": {},
   "outputs": [],
   "source": [
    "# Defining the website URL and query parameters for the analysis\n",
    "SITE_URL = \"https://forecast.weather.gov/\"\n",
    "PAGE_URL = \"{site_url}/MapClick.php?lat={lat}&lon={lon}\"\n",
    "LAT = 40.7146\n",
    "LON = -74.0071"
   ]
  },
  {
   "cell_type": "code",
   "execution_count": null,
   "metadata": {},
   "outputs": [],
   "source": [
    "# Creating a connection to MongoDB\n",
    "client = MongoClient(\"\", 27017)\n",
    "db = client[\"weather\"]\n",
    "collection = db[\"forecast\"]"
   ]
  },
  {
   "cell_type": "code",
   "execution_count": null,
   "metadata": {},
   "outputs": [],
   "source": [
    "# Downloading and storing in-memory the HTML returned by the weather server\n",
    "page = requests.get(PAGE_URL.format(site_url = SITE_URL, lat = LAT, lon = LON))\n",
    "print(page) # Success making the request"
   ]
  },
  {
   "cell_type": "code",
   "execution_count": null,
   "metadata": {},
   "outputs": [],
   "source": [
    "# HTML content is passed to BeautifulSoup for scraping analysis\n",
    "soup = BeautifulSoup(page.content, \"html.parser\")"
   ]
  },
  {
   "cell_type": "code",
   "execution_count": null,
   "metadata": {},
   "outputs": [],
   "source": [
    "# Finding by id the tag containing the forecasts\n",
    "seven_day = soup.find(id = \"seven-day-forecast\")"
   ]
  },
  {
   "cell_type": "code",
   "execution_count": null,
   "metadata": {},
   "outputs": [],
   "source": [
    "# Tags classed with `tombstone-container` contain the different forecast data points\n",
    "forecast_items = seven_day.find_all(class_ = \"tombstone-container\")\n",
    "print(len(forecast_items)) # 9 forecast data points founded"
   ]
  },
  {
   "cell_type": "code",
   "execution_count": null,
   "metadata": {},
   "outputs": [],
   "source": [
    "# Printint the HTML content for today's forecast\n",
    "tonight = forecast_items[0]\n",
    "print(tonight.prettify())"
   ]
  },
  {
   "cell_type": "code",
   "execution_count": null,
   "metadata": {},
   "outputs": [],
   "source": [
    "# Extracting info from the HTML content for today's forecast\n",
    "\n",
    "period = tonight.find(class_ = \"period-name\").get_text()\n",
    "print(period)\n",
    "\n",
    "short_desc = tonight.find(class_ = \"short-desc\").get_text()\n",
    "print(short_desc)\n",
    "\n",
    "temp = tonight.find(class_ = \"temp\").get_text()\n",
    "print(temp)"
   ]
  },
  {
   "cell_type": "code",
   "execution_count": null,
   "metadata": {},
   "outputs": [],
   "source": [
    "# Accessing to img tag directly by name\n",
    "img = tonight.find(\"img\")"
   ]
  },
  {
   "cell_type": "code",
   "execution_count": null,
   "metadata": {},
   "outputs": [],
   "source": [
    "# Extracting and showing a static resource, the image best representing the forecast\n",
    "f = urlopen(SITE_URL + img[\"src\"])\n",
    "a = plt.imread(f)\n",
    "plt.imshow(a)\n",
    "plt.show()"
   ]
  },
  {
   "cell_type": "code",
   "execution_count": null,
   "metadata": {},
   "outputs": [],
   "source": [
    "# Extracting additional metadata from image\n",
    "desc = img[\"title\"]\n",
    "print(desc)"
   ]
  },
  {
   "cell_type": "code",
   "execution_count": null,
   "metadata": {},
   "outputs": [],
   "source": [
    "# Reproducing previous extractions for all data points\n",
    "\n",
    "periods = [pt.get_text() for pt in seven_day.select(\".tombstone-container .period-name\")]\n",
    "print(\"Periods:\", periods)\n",
    "\n",
    "short_descs = [sd.get_text() for sd in seven_day.select(\".tombstone-container .short-desc\")]\n",
    "print(\"Short descriptions:\", short_descs)\n",
    "\n",
    "temps = [t.get_text() for t in seven_day.select(\".tombstone-container .temp\")]\n",
    "print(\"Temperatures:\",temps)\n",
    "\n",
    "descs = [d[\"title\"] for d in seven_day.select(\".tombstone-container img\")]\n",
    "print(\"Descriptions:\", descs)"
   ]
  },
  {
   "cell_type": "code",
   "execution_count": null,
   "metadata": {},
   "outputs": [],
   "source": [
    "# Transforming extracted data to a tabular format\n",
    "weather_df = pd.DataFrame({\n",
    "    \"period\": periods,\n",
    "    \"short_desc\": short_descs,\n",
    "    \"temp\": temps,\n",
    "    \"desc\": descs\n",
    "})"
   ]
  },
  {
   "cell_type": "code",
   "execution_count": null,
   "metadata": {},
   "outputs": [],
   "source": [
    "# Printing tabular forecast data\n",
    "weather_df"
   ]
  },
  {
   "cell_type": "code",
   "execution_count": null,
   "metadata": {},
   "outputs": [],
   "source": [
    "# Cleaning temperature column\n",
    "weather_df[\"temp_num\"] = weather_df[\"temp\"].apply(lambda x: x.split(\" \")[1]).astype(\"int\")"
   ]
  },
  {
   "cell_type": "code",
   "execution_count": null,
   "metadata": {},
   "outputs": [],
   "source": [
    "# Printing data, again\n",
    "weather_df"
   ]
  },
  {
   "cell_type": "code",
   "execution_count": null,
   "metadata": {},
   "outputs": [],
   "source": [
    "# What is the mean forecasted temperature?\n",
    "round(weather_df[\"temp_num\"].mean(), 2)"
   ]
  },
  {
   "cell_type": "code",
   "execution_count": null,
   "metadata": {},
   "outputs": [],
   "source": [
    "# Visualizing some relevant information about forecast weather\n",
    "plt.figure(figsize = (15, 7))\n",
    "plt.bar(weather_df[\"period\"], weather_df[\"temp_num\"])\n",
    "plt.title(\"Forecasted temperature (ºF) for next 4 days\")"
   ]
  },
  {
   "cell_type": "code",
   "execution_count": null,
   "metadata": {},
   "outputs": [],
   "source": [
    "# Transforming df to dict\n",
    "weather_dict = weather_df.to_dict(orient = \"row\")"
   ]
  },
  {
   "cell_type": "code",
   "execution_count": null,
   "metadata": {},
   "outputs": [],
   "source": [
    "weather_dict"
   ]
  },
  {
   "cell_type": "code",
   "execution_count": null,
   "metadata": {},
   "outputs": [],
   "source": [
    "# Storing extracted information for further analysis\n",
    "collection.insert_many(weather_dict)"
   ]
  },
  {
   "cell_type": "code",
   "execution_count": null,
   "metadata": {},
   "outputs": [],
   "source": []
  }
 ],
 "metadata": {
  "kernelspec": {
   "display_name": "Python 3",
   "language": "python",
   "name": "python3"
  },
  "language_info": {
   "codemirror_mode": {
    "name": "ipython",
    "version": 3
   },
   "file_extension": ".py",
   "mimetype": "text/x-python",
   "name": "python",
   "nbconvert_exporter": "python",
   "pygments_lexer": "ipython3",
   "version": "3.7.6"
  }
 },
 "nbformat": 4,
 "nbformat_minor": 4
}
